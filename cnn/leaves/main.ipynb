{
 "cells": [
  {
   "cell_type": "code",
   "execution_count": null,
   "id": "26054427d7d87660",
   "metadata": {
    "is_executing": true
   },
   "outputs": [],
   "source": []
  },
  {
   "cell_type": "code",
   "execution_count": null,
   "id": "initial_id",
   "metadata": {
    "is_executing": true
   },
   "outputs": [],
   "source": [
    "import splitfolders\n",
    "import tensorflow as tf\n",
    "from tensorflow.keras.applications import DenseNet201\n",
    "from tensorflow.keras.preprocessing.image import ImageDataGenerator\n",
    "from tensorflow.keras.layers import Dense, GlobalAveragePooling2D, Dropout\n",
    "from tensorflow.keras.models import Model\n",
    "import os"
   ]
  },
  {
   "cell_type": "code",
   "execution_count": null,
   "id": "7f2822d203e80e6d",
   "metadata": {
    "is_executing": true
   },
   "outputs": [],
   "source": [
    "# Define the paths to your training and validation datasets\n",
    "Dataset_dir = 'leave_dataset/Grapevine_Leaves_Image_Dataset'\n",
    "\n",
    "# splite dataset to 3 class of train, validation and test\n",
    "splitfolders.ratio(Dataset_dir,output='leave_dataset/Grapevine_Image_Train_Validation_Test', seed=42, ratio=(.75, .2, .05), group_prefix=None)"
   ]
  },
  {
   "cell_type": "code",
   "execution_count": null,
   "id": "b16208da5dda834",
   "metadata": {
    "is_executing": true
   },
   "outputs": [],
   "source": [
    "training_dir = 'leave_dataset/Grapevine_Image_Train_Validation_Test/train'\n",
    "validation_dir = 'leave_dataset/Grapevine_Image_Train_Validation_Test/val'\n",
    "test_dir = 'leave_dataset/Grapevine_Image_Train_Validation_Test/test'"
   ]
  },
  {
   "cell_type": "code",
   "execution_count": null,
   "id": "eb02d66eaa06f879",
   "metadata": {
    "is_executing": true
   },
   "outputs": [],
   "source": [
    "import cv2\n",
    "import numpy as np\n",
    "image = cv2.imread('leave_dataset/Grapevine_Leaves_Image_Dataset/Nazli/Nazli (22).png')\n",
    "height, width, channels = image.shape\n",
    "print(f\"Image shape: (height={height}, width={width}, channels={channels})\")"
   ]
  },
  {
   "cell_type": "code",
   "execution_count": null,
   "id": "bb9f2ccd61945a6a",
   "metadata": {
    "is_executing": true
   },
   "outputs": [],
   "source": [
    "# Define data augmentation for training\n",
    "train_datagen = ImageDataGenerator(\n",
    "    rescale=1./255,\n",
    "    rotation_range=20,\n",
    "    shear_range=0.2,\n",
    "    horizontal_flip=True,\n",
    "    fill_mode='nearest'\n",
    ")\n",
    "\n",
    "# Load your dataset\n",
    "train_generator = train_datagen.flow_from_directory(\n",
    "    training_dir,\n",
    "    target_size=(224, 224),  \n",
    "    batch_size=32,\n",
    "    shuffle = True,\n",
    "    class_mode='categorical'\n",
    ")\n",
    "\n",
    "val_datagen = ImageDataGenerator(\n",
    "    rescale=1./255\n",
    "    )\n",
    "val_generator = val_datagen.flow_from_directory(\n",
    "    validation_dir,\n",
    "    target_size=(224, 224), \n",
    "    batch_size=32,\n",
    "    shuffle = True,\n",
    "    class_mode='categorical'\n",
    ")\n",
    "\n",
    "test_datagen = ImageDataGenerator(\n",
    "    rescale=1./255\n",
    "    )\n",
    "test_generator = test_datagen.flow_from_directory(\n",
    "    test_dir,\n",
    "    target_size=(224, 224),  \n",
    "    batch_size=32,\n",
    "    shuffle = True,\n",
    "    class_mode='categorical'\n",
    ")"
   ]
  },
  {
   "cell_type": "code",
   "execution_count": null,
   "id": "f4581345a129a40f",
   "metadata": {
    "is_executing": true
   },
   "outputs": [],
   "source": [
    "import matplotlib.pyplot as plt\n",
    "# Display some training images\n",
    "plt.figure(figsize=(12, 8))\n",
    "\n",
    "# Create a mapping from class numbers to class names\n",
    "class_names = {v: k for k, v in train_generator.class_indices.items()}\n",
    "\n",
    "for i in range(9):  # Change the number of images you want to display\n",
    "    image, label = train_generator.next()  # Get the next batch of images and labels\n",
    "    plt.subplot(3, 3, i + 1)\n",
    "    plt.imshow(image[0])\n",
    "    class_num = label[i].argmax()\n",
    "    class_name = class_names[class_num]\n",
    "    plt.title(f'Class: {class_name}')\n",
    "    plt.axis('off')\n",
    "    plt.show()"
   ]
  }
 ],
 "metadata": {
  "kernelspec": {
   "display_name": "Python 3 (ipykernel)",
   "language": "python",
   "name": "python3"
  },
  "language_info": {
   "codemirror_mode": {
    "name": "ipython",
    "version": 3
   },
   "file_extension": ".py",
   "mimetype": "text/x-python",
   "name": "python",
   "nbconvert_exporter": "python",
   "pygments_lexer": "ipython3",
   "version": "3.9.13"
  }
 },
 "nbformat": 4,
 "nbformat_minor": 5
}
